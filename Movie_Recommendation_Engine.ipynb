{
 "cells": [
  {
   "cell_type": "code",
   "execution_count": 3,
   "id": "japanese-carrier",
   "metadata": {},
   "outputs": [],
   "source": [
    "import matplotlib.pyplot as plt\n",
    "\n",
    "%matplotlib inline\n",
    "import pandas as pd\n",
    "import numpy as np\n",
    "from sklearn.metrics.pairwise import cosine_similarity\n",
    "from sklearn.feature_extraction.text import CountVectorizer"
   ]
  },
  {
   "cell_type": "code",
   "execution_count": 4,
   "id": "great-return",
   "metadata": {},
   "outputs": [],
   "source": [
    "def get_title_from_index(index):\n",
    "\treturn df[df.index == index][\"title\"].values[0]"
   ]
  },
  {
   "cell_type": "code",
   "execution_count": 5,
   "id": "strange-globe",
   "metadata": {},
   "outputs": [],
   "source": [
    "def get_index_from_title(title):\n",
    "\treturn df[df.title == title][\"index\"].values[0]"
   ]
  },
  {
   "cell_type": "code",
   "execution_count": 6,
   "id": "arranged-tournament",
   "metadata": {},
   "outputs": [
    {
     "name": "stdout",
     "output_type": "stream",
     "text": [
      "Index(['index', 'budget', 'genres', 'homepage', 'id', 'keywords',\n",
      "       'original_language', 'original_title', 'overview', 'popularity',\n",
      "       'production_companies', 'production_countries', 'release_date',\n",
      "       'revenue', 'runtime', 'spoken_languages', 'status', 'tagline', 'title',\n",
      "       'vote_average', 'vote_count', 'cast', 'crew', 'director'],\n",
      "      dtype='object')\n"
     ]
    }
   ],
   "source": [
    "df = pd.read_csv(\"movie_dataset.csv\")\n",
    "\n",
    "print ( df.columns)"
   ]
  },
  {
   "cell_type": "code",
   "execution_count": 8,
   "id": "sublime-printing",
   "metadata": {},
   "outputs": [],
   "source": [
    "feartures=['keywords','cast','genres','director']"
   ]
  },
  {
   "cell_type": "code",
   "execution_count": 9,
   "id": "fleet-employer",
   "metadata": {},
   "outputs": [],
   "source": [
    "for feature in feartures:\n",
    "\tdf[feature] = df[feature].fillna('')\n",
    "\n",
    "def combine_features(row):\n",
    "\ttry:\n",
    "\t\treturn row['keywords']+\" \"+row['cast']+\" \"+ row['genres']+\" \"+ row[\"director\"]\n",
    "\texcept: \n",
    "\t    print (\"error\", row)\t\n",
    "df[\"combined_features\"]= df.apply(combine_features,axis=1)\n",
    "\n"
   ]
  },
  {
   "cell_type": "code",
   "execution_count": 10,
   "id": "rational-mexico",
   "metadata": {},
   "outputs": [],
   "source": [
    "cv=CountVectorizer()\n",
    "\n",
    "count_matrix=cv.fit_transform(df[\"combined_features\"])"
   ]
  },
  {
   "cell_type": "code",
   "execution_count": 11,
   "id": "agreed-genealogy",
   "metadata": {},
   "outputs": [],
   "source": [
    "cosine_sim=cosine_similarity(count_matrix)\n",
    "movie_user_likes = \"Sheena\""
   ]
  },
  {
   "cell_type": "code",
   "execution_count": 12,
   "id": "organic-infrastructure",
   "metadata": {},
   "outputs": [],
   "source": [
    "movie_index=get_index_from_title(movie_user_likes)\n",
    "similar_movies=list(enumerate(cosine_sim[movie_index]))"
   ]
  },
  {
   "cell_type": "code",
   "execution_count": 13,
   "id": "crazy-senegal",
   "metadata": {},
   "outputs": [],
   "source": [
    "sorted_similar_movies = sorted(similar_movies,key = lambda x:x[1],reverse=True)"
   ]
  },
  {
   "cell_type": "code",
   "execution_count": 43,
   "id": "mental-connecticut",
   "metadata": {},
   "outputs": [
    {
     "name": "stdout",
     "output_type": "stream",
     "text": [
      "Sheena\n",
      "The Helix... Loaded\n",
      "Aliens in the Attic\n",
      "Teenage Mutant Ninja Turtles\n",
      "Hellboy II: The Golden Army\n",
      "Spawn\n",
      "Mystery Men\n",
      "A View to a Kill\n",
      "Teenage Mutant Ninja Turtles II: The Secret of the Ooze\n",
      "Time Bandits\n",
      "Superman III\n",
      "The Hunger Games\n",
      "Spy Kids 3-D: Game Over\n",
      "The Ice Pirates\n",
      "Journey to Saturn\n",
      "The Hunger Games: Mockingjay - Part 2\n",
      "Mirror Mirror\n",
      "Zathura: A Space Adventure\n",
      "Meet Dave\n",
      "In the Name of the King: A Dungeon Siege Tale\n",
      "The Ant Bully\n",
      "The Shadow\n",
      "The Borrowers\n",
      "RoboCop 3\n",
      "2012\n",
      "Suicide Squad\n",
      "Delgo\n",
      "Small Soldiers\n",
      "Johnny English\n",
      "Big Trouble in Little China\n",
      "Hot Tub Time Machine\n",
      "The Mummy: Tomb of the Dragon Emperor\n",
      "Transformers: Dark of the Moon\n",
      "Charlie's Angels\n",
      "Paycheck\n",
      "Babylon A.D.\n",
      "Southland Tales\n",
      "30 Minutes or Less\n",
      "The Fifth Element\n",
      "Titan A.E.\n",
      "Underworld: Rise of the Lycans\n",
      "Into the Blue\n",
      "The Amazing Spider-Man\n",
      "Jupiter Ascending\n",
      "Puss in Boots\n",
      "Monkeybone\n",
      "Hook\n",
      "The Hitchhiker's Guide to the Galaxy\n",
      "Dragonball Evolution\n",
      "Donovan's Reef\n",
      "The Beastmaster\n"
     ]
    }
   ],
   "source": [
    "i=0\n",
    "for element in sorted_similar_movies:\n",
    "\t\tprint (get_title_from_index(element[0]))\n",
    "\t\ti=i+1\n",
    "\t\tif i>50:\n",
    "\t\t\tbreak"
   ]
  },
  {
   "cell_type": "code",
   "execution_count": null,
   "id": "quarterly-giving",
   "metadata": {},
   "outputs": [],
   "source": []
  }
 ],
 "metadata": {
  "kernelspec": {
   "display_name": "Python 3",
   "language": "python",
   "name": "python3"
  },
  "language_info": {
   "codemirror_mode": {
    "name": "ipython",
    "version": 3
   },
   "file_extension": ".py",
   "mimetype": "text/x-python",
   "name": "python",
   "nbconvert_exporter": "python",
   "pygments_lexer": "ipython3",
   "version": "3.9.1"
  }
 },
 "nbformat": 4,
 "nbformat_minor": 5
}
